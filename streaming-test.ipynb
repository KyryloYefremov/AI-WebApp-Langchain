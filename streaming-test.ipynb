{
 "cells": [
  {
   "cell_type": "markdown",
   "metadata": {},
   "source": [
    "## Test Streaming API"
   ]
  },
  {
   "cell_type": "markdown",
   "metadata": {},
   "source": [
    "This notebook covers hitting the API `/invoke` endpoint and streaming the code to our terminal."
   ]
  },
  {
   "cell_type": "code",
   "execution_count": 1,
   "metadata": {},
   "outputs": [],
   "source": [
    "import requests\n",
    "\n",
    "def get_stream(query: str):\n",
    "    localsession = requests.Session()\n",
    "    with localsession.post(\n",
    "        f\"http://localhost:8000/invoke?content={query}\",\n",
    "        stream=True,\n",
    "        headers={\"Accept\": \"text/event-stream\"}\n",
    "    ) as response:\n",
    "        for token in response.iter_content(decode_unicode=True):\n",
    "            if token:  # Skip empty lines\n",
    "                print(token, end=\"\", flush=True)"
   ]
  },
  {
   "cell_type": "markdown",
   "metadata": {},
   "source": [
    "We can test with the simple `add` tool first:"
   ]
  },
  {
   "cell_type": "code",
   "execution_count": 4,
   "metadata": {},
   "outputs": [
    {
     "name": "stdout",
     "output_type": "stream",
     "text": [
      "<step><step_name>add</step_name>{\"x\":5,\"y\":5}</step><step><step_name>final_answer</step_name>{\"answer\":\"5 + 5 = 10\",\"tools_used\":[\"functions.add\"]}"
     ]
    }
   ],
   "source": [
    "get_stream(\"what is 5+5\")"
   ]
  },
  {
   "cell_type": "markdown",
   "metadata": {},
   "source": [
    "Now let's try the `serpapi` tool:"
   ]
  },
  {
   "cell_type": "code",
   "execution_count": 5,
   "metadata": {},
   "outputs": [
    {
     "name": "stdout",
     "output_type": "stream",
     "text": [
      "<step><step_name>serpapi</step_name>{\"query\":\"latest world news\"}</step><step><step_name>final_answer</step_name>{\"answer\":\"Here are some of the latest news highlights from around the world:\\n\\n1. **DR Congo Attack**: More than 40 people were killed in an attack linked to the Islamic State during a night vigil. [Read more](https://www.bbc.com/news/world)\\n\\n2. **US-EU Trade Deal**: European stocks gained while the euro dipped after a US-EU strike trade deal was announced. [Read more](https://news.google.com/)\\n\\n3. **Thailand-Cambodia Ceasefire**: Thailand and Cambodia have agreed to a ceasefire amid ongoing tensions. [Read more](https://news.google.com/)\\n\\n4. **Cyber-Attack on Aeroflot**: Russia's Aeroflot has canceled flights following a cyber-attack claimed by pro-Ukraine hackers. [Read more](https://www.theguardian.com/world)\\n\\nFor more detailed updates, you can check sources like [BBC](https://www.bbc.com/news/world), [CNN](https://www.cnn.com/), and [Reuters](https://www.reuters.com/world/).\",\"tools_used\":[\"serpapi\"]}"
     ]
    }
   ],
   "source": [
    "get_stream(\"tell me about the latest news in the world\")"
   ]
  },
  {
   "cell_type": "code",
   "execution_count": 6,
   "metadata": {},
   "outputs": [
    {
     "name": "stdout",
     "output_type": "stream",
     "text": [
      "<step><step_name>serpapi</step_name>{\"query\": \"current temperature in Oslo\"}<step><step_name>multiply</step_name>{\"x\": 5, \"y\": 5}</step><step><step_name>final_answer</step_name>{\"answer\":\"The current temperature in Oslo is 65°F (approximately 18°C). The result of multiplying 5 by 5 is 25. Therefore, when you multiply the temperature (65) by 25, you get 1625.\",\"tools_used\":[\"serpapi\",\"functions.multiply\"]}"
     ]
    }
   ],
   "source": [
    "get_stream(\n",
    "    \"how cold is it in oslo right now, what is 5*5, and what \"\n",
    "    \"do you get when multiplying those two numbers together?\"\n",
    ")"
   ]
  },
  {
   "cell_type": "code",
   "execution_count": null,
   "metadata": {},
   "outputs": [],
   "source": [
    "get_stream(\"what is the current date and time in these places: dubai, tokyo, berlin?\")"
   ]
  },
  {
   "cell_type": "markdown",
   "metadata": {},
   "source": [
    "---"
   ]
  }
 ],
 "metadata": {
  "kernelspec": {
   "display_name": "AI-WebApp-Langchain",
   "language": "python",
   "name": "python3"
  },
  "language_info": {
   "codemirror_mode": {
    "name": "ipython",
    "version": 3
   },
   "file_extension": ".py",
   "mimetype": "text/x-python",
   "name": "python",
   "nbconvert_exporter": "python",
   "pygments_lexer": "ipython3",
   "version": "3.12.7"
  }
 },
 "nbformat": 4,
 "nbformat_minor": 2
}
